{
 "cells": [
  {
   "cell_type": "code",
   "execution_count": 1,
   "id": "7858896c",
   "metadata": {},
   "outputs": [],
   "source": [
    "import pandas as pd\n",
    "import numpy as np\n",
    "import matplotlib.pyplot as plt\n",
    "import seaborn as sns"
   ]
  },
  {
   "cell_type": "code",
   "execution_count": 2,
   "id": "5cd43fa1",
   "metadata": {},
   "outputs": [
    {
     "name": "stdout",
     "output_type": "stream",
     "text": [
      "           X1 X2 X3 X4  X5  X6  X7  X8  X9 X10  ...    X15    X16    X17  \\\n",
      "1       20000  2  2  1  24   2   2  -1  -1  -2  ...      0      0      0   \n",
      "2      120000  2  2  2  26  -1   2   0   0   0  ...   3272   3455   3261   \n",
      "3       90000  2  2  2  34   0   0   0   0   0  ...  14331  14948  15549   \n",
      "4       50000  2  2  1  37   0   0   0   0   0  ...  28314  28959  29547   \n",
      "5       50000  1  2  1  57  -1   0  -1   0   0  ...  20940  19146  19131   \n",
      "...       ... .. .. ..  ..  ..  ..  ..  ..  ..  ...    ...    ...    ...   \n",
      "29996  220000  1  3  1  39   0   0   0   0   0  ...  88004  31237  15980   \n",
      "29997  150000  1  3  2  43  -1  -1  -1  -1   0  ...   8979   5190      0   \n",
      "29998   30000  1  2  2  37   4   3   2  -1   0  ...  20878  20582  19357   \n",
      "29999   80000  1  3  1  41   1  -1   0   0   0  ...  52774  11855  48944   \n",
      "30000   50000  1  2  1  46   0   0   0   0   0  ...  36535  32428  15313   \n",
      "\n",
      "         X18    X19    X20   X21    X22   X23  Y  \n",
      "1          0    689      0     0      0     0  1  \n",
      "2          0   1000   1000  1000      0  2000  1  \n",
      "3       1518   1500   1000  1000   1000  5000  0  \n",
      "4       2000   2019   1200  1100   1069  1000  0  \n",
      "5       2000  36681  10000  9000    689   679  0  \n",
      "...      ...    ...    ...   ...    ...   ... ..  \n",
      "29996   8500  20000   5003  3047   5000  1000  0  \n",
      "29997   1837   3526   8998   129      0     0  0  \n",
      "29998      0      0  22000  4200   2000  3100  1  \n",
      "29999  85900   3409   1178  1926  52964  1804  1  \n",
      "30000   2078   1800   1430  1000   1000  1000  1  \n",
      "\n",
      "[30000 rows x 24 columns]\n"
     ]
    }
   ],
   "source": [
    "data = pd.read_excel('default_of_credit_card_clients.xls')\n",
    "data= data[1:]\n",
    "print(data)"
   ]
  },
  {
   "cell_type": "code",
   "execution_count": 3,
   "id": "19f9432b",
   "metadata": {},
   "outputs": [],
   "source": [
    "from sklearn.preprocessing import StandardScaler\n",
    "scaler = StandardScaler()\n",
    "scaler.fit(data.drop('Y', axis=1))\n",
    "scaled_features = scaler.transform(data.drop('Y', axis=1))\n",
    "scaled_data = pd.DataFrame(scaled_features, columns = data.drop('Y', axis=1).columns)\n"
   ]
  },
  {
   "cell_type": "code",
   "execution_count": 4,
   "id": "e4d62502",
   "metadata": {},
   "outputs": [
    {
     "name": "stdout",
     "output_type": "stream",
     "text": [
      "             X1        X2        X3        X4        X5        X6        X7  \\\n",
      "19096 -0.905498  0.810161  0.185828 -1.057295 -0.595102  0.014861  0.111736   \n",
      "16620 -0.905498 -1.234323  0.185828  0.858557  0.381275  2.684416  1.782348   \n",
      "21573 -1.059646  0.810161  0.185828 -1.057295 -1.462993  1.794564  1.782348   \n",
      "7651   0.019389 -1.234323 -1.079457 -1.057295  0.489762  0.014861  0.111736   \n",
      "10266 -0.828424  0.810161 -1.079457  0.858557 -0.595102 -1.764843 -1.558876   \n",
      "...         ...       ...       ...       ...       ...       ...       ...   \n",
      "18384 -1.059646  0.810161  1.451114 -1.057295 -1.462993  0.014861  0.111736   \n",
      "7950  -0.520128  0.810161  1.451114 -1.057295  1.900084  0.014861  0.111736   \n",
      "16893  0.250611 -1.234323 -1.079457 -1.057295  0.706734 -1.764843 -1.558876   \n",
      "25258 -0.674276  0.810161 -1.079457  0.858557 -1.354506 -0.874991 -0.723570   \n",
      "15392 -0.905498  0.810161  1.451114 -1.057295  1.900084  0.014861  0.111736   \n",
      "\n",
      "             X8        X9       X10  ...       X14       X15       X16  \\\n",
      "19096  0.138865  0.188746  0.234917  ... -0.062383 -0.041176 -0.180199   \n",
      "16620  0.138865  0.188746  0.234917  ... -0.001747 -0.144982 -0.511322   \n",
      "21573  1.809921  0.188746  0.234917  ... -0.472877 -0.451953 -0.546966   \n",
      "7651   0.138865  0.188746  0.234917  ...  1.746675  1.967271  2.182747   \n",
      "10266 -1.532192 -1.521944 -1.530046  ... -0.677929 -0.672497 -0.663059   \n",
      "...         ...       ...       ...  ...       ...       ...       ...   \n",
      "18384  0.138865  0.188746  0.234917  ... -0.309801 -0.259591 -0.200529   \n",
      "7950   0.138865  0.188746  0.234917  ...  0.407838  0.474276  0.580491   \n",
      "16893 -1.532192 -1.521944 -1.530046  ... -0.680813 -0.675606 -0.622398   \n",
      "25258 -0.696663 -0.666599 -0.647565  ... -0.665874 -0.659502 -0.649308   \n",
      "15392  0.138865  0.188746  0.234917  ...  0.028780  0.113941 -0.330505   \n",
      "\n",
      "            X17       X18       X19       X20       X21       X22       X23  \n",
      "19096 -0.152079 -0.221191 -0.168146 -0.112439 -0.233761 -0.245541 -0.231505  \n",
      "16620 -0.497166 -0.341942 -0.155299 -0.208880 -0.277678 -0.292144 -0.273806  \n",
      "21573 -0.518793 -0.237794 -0.256990 -0.226941 -0.244230 -0.248683 -0.293382  \n",
      "7651   2.093900  0.113290  0.070261  0.061075  0.107937  0.080875  0.068599  \n",
      "10266 -0.652724 -0.341942 -0.256990 -0.296801 -0.308063 -0.314136 -0.080244  \n",
      "...         ...       ...       ...       ...       ...       ...       ...  \n",
      "18384 -0.173186 -0.257416 -0.181904 -0.196839 -0.160609 -0.246523 -0.293382  \n",
      "7950   0.653790 -0.105330 -0.126350 -0.126411  0.074935 -0.085049 -0.124626  \n",
      "16893 -0.652724 -0.341942 -0.256990 -0.296801 -0.137501 -0.314136 -0.188641  \n",
      "25258 -0.638686  0.204578 -0.220706 -0.249319 -0.254698 -0.259417 -0.091438  \n",
      "15392 -0.306059 -0.235077 -0.169795 -0.149528 -0.244230 -0.264915 -0.236174  \n",
      "\n",
      "[21000 rows x 23 columns]\n",
      "-------------------------------------------------\n",
      "19097    0\n",
      "16621    0\n",
      "21574    1\n",
      "7652     0\n",
      "10267    0\n",
      "        ..\n",
      "18385    0\n",
      "7951     0\n",
      "16894    0\n",
      "25259    0\n",
      "15393    1\n",
      "Name: Y, Length: 21000, dtype: object\n",
      "-------------------------------------------------\n",
      "             X1        X2        X3        X4        X5        X6        X7  \\\n",
      "8688  -0.905498 -1.234323  0.185828  0.858557 -1.246020  0.014861  0.111736   \n",
      "23348  0.327685  0.810161  0.185828 -1.057295 -0.378129 -1.764843 -1.558876   \n",
      "29600 -0.134759 -1.234323 -1.079457  0.858557 -0.378129 -1.764843 -1.558876   \n",
      "22973  0.250611  0.810161  0.185828 -1.057295  0.055816  1.794564  0.111736   \n",
      "23920 -0.905498 -1.234323  1.451114 -1.057295 -1.462993  0.014861  0.111736   \n",
      "...         ...       ...       ...       ...       ...       ...       ...   \n",
      "17544 -1.136720  0.810161  0.185828 -1.057295 -0.052670  1.794564  0.111736   \n",
      "21499  2.254534  0.810161 -1.079457  0.858557 -0.812074  0.014861  0.111736   \n",
      "22300  1.175499  0.810161 -1.079457  0.858557 -0.595102 -1.764843 -1.558876   \n",
      "12781  0.327685 -1.234323 -1.079457 -1.057295  1.140680 -0.874991 -0.723570   \n",
      "13854  1.483795  0.810161 -1.079457 -1.057295 -0.595102  0.904712 -1.558876   \n",
      "\n",
      "             X8        X9       X10  ...       X14       X15       X16  \\\n",
      "8688   0.138865  0.188746  0.234917  ... -0.157569 -0.160386 -0.180331   \n",
      "23348 -1.532192 -1.521944 -1.530046  ... -0.677929 -0.672497 -0.663059   \n",
      "29600 -1.532192 -1.521944 -1.530046  ... -0.544501 -0.158568 -0.624767   \n",
      "22973  0.138865  0.188746  0.234917  ...  1.689587  1.444637  1.626708   \n",
      "23920  0.138865  0.188746  0.234917  ...  0.008448  0.080723  0.069652   \n",
      "...         ...       ...       ...  ...       ...       ...       ...   \n",
      "17544  0.138865  1.899436  1.999879  ... -0.541588 -0.530204 -0.498558   \n",
      "21499  0.138865  0.188746 -0.647565  ... -0.496670 -0.370889 -0.497538   \n",
      "22300 -1.532192 -1.521944 -1.530046  ... -0.616543 -0.672544 -0.663108   \n",
      "12781 -0.696663 -0.666599 -0.647565  ... -0.001862  0.579046 -0.656627   \n",
      "13854 -1.532192 -1.521944 -1.530046  ... -0.677929 -0.672497 -0.663059   \n",
      "\n",
      "            X17       X18       X19       X20       X21       X22       X23  \n",
      "8688  -0.256943  0.021096 -0.126307 -0.238925 -0.243017 -0.182248 -0.292426  \n",
      "23348 -0.652724 -0.341942 -0.256990 -0.296801 -0.308063 -0.314136 -0.293382  \n",
      "29600 -0.583525 -0.244979  0.146518  1.591290 -0.158949 -0.043159  0.317458  \n",
      "22973  1.626619  0.204517  0.046824 -0.012818  0.011102  0.013131 -0.012122  \n",
      "23920  0.073619 -0.218111 -0.161505 -0.182299 -0.179822 -0.177208 -0.236005  \n",
      "...         ...       ...       ...       ...       ...       ...       ...  \n",
      "17544 -0.484034 -0.251378 -0.150481 -0.296801 -0.244230 -0.291227 -0.293382  \n",
      "21499 -0.507845 -0.066629 -0.148485  0.240268  0.334288 -0.314136 -0.293382  \n",
      "22300 -0.641474 -0.029378 -0.071316 -0.296801 -0.308063 -0.270086  0.341590  \n",
      "12781 -0.627755  0.007633  1.779209  4.296402 -0.283104 -0.216152  0.280050  \n",
      "13854 -0.652724 -0.341942 -0.256990 -0.296801 -0.308063 -0.314136 -0.293382  \n",
      "\n",
      "[9000 rows x 23 columns]\n",
      "-------------------------------------------------\n",
      "8689     0\n",
      "23349    0\n",
      "29601    0\n",
      "22974    1\n",
      "23921    1\n",
      "        ..\n",
      "17545    1\n",
      "21500    0\n",
      "22301    0\n",
      "12782    0\n",
      "13855    1\n",
      "Name: Y, Length: 9000, dtype: object\n"
     ]
    }
   ],
   "source": [
    "#Разделение датасета на обучающие и тестовые данные\n",
    "from sklearn.model_selection import train_test_split\n",
    "x = scaled_data\n",
    "y = data['Y']\n",
    "x_training_data, x_test_data, y_training_data, y_test_data = train_test_split(x, y, test_size = 0.3)\n",
    "print(x_training_data)\n",
    "print(\"-------------------------------------------------\")\n",
    "print(y_training_data)\n",
    "print(\"-------------------------------------------------\")\n",
    "print(x_test_data)\n",
    "print(\"-------------------------------------------------\")\n",
    "print(y_test_data)\n"
   ]
  },
  {
   "cell_type": "code",
   "execution_count": 5,
   "id": "7e22bd3d",
   "metadata": {
    "pycharm": {
     "is_executing": true
    }
   },
   "outputs": [
    {
     "name": "stdout",
     "output_type": "stream",
     "text": [
      "K =  26\n",
      "Error =  0.18577777777777776\n"
     ]
    },
    {
     "data": {
      "image/png": "[encoded data removed]",
      "text/plain": [
       "<Figure size 432x288 with 1 Axes>"
      ]
     },
     "metadata": {
      "needs_background": "light"
     },
     "output_type": "display_data"
    }
   ],
   "source": [
    "#Выбор оптимального значения для K с помощью метода «Локтя»\n",
    "from sklearn.neighbors import KNeighborsClassifier\n",
    "error_rates = []\n",
    "y_training_data = y_training_data.astype('int')\n",
    "for i in np.arange(1, 100):\n",
    "    new_model = KNeighborsClassifier(n_neighbors = i)\n",
    "    new_model.fit(x_training_data, y_training_data)\n",
    "    new_predictions = new_model.predict(x_test_data)\n",
    "    error_rates.append(np.mean(new_predictions != y_test_data))\n",
    "val, idx = min((val, idx) for (idx, val) in enumerate(error_rates))\n",
    "plt.plot(error_rates)\n",
    "print(\"K = \",idx)\n",
    "print(\"Error = \",error_rates[idx])"
   ]
  },
  {
   "cell_type": "code",
   "execution_count": 6,
   "id": "759884bf",
   "metadata": {
    "pycharm": {
     "is_executing": true
    }
   },
   "outputs": [
    {
     "data": {
      "text/plain": [
       "KNeighborsClassifier(n_neighbors=26)"
      ]
     },
     "execution_count": 6,
     "metadata": {},
     "output_type": "execute_result"
    }
   ],
   "source": [
    "#Обучение модели K-ближайших соседей\n",
    "model = KNeighborsClassifier(n_neighbors = idx)\n",
    "model.fit(x_training_data, y_training_data)\n"
   ]
  },
  {
   "cell_type": "code",
   "execution_count": 7,
   "id": "2878a3a4",
   "metadata": {
    "pycharm": {
     "is_executing": true
    }
   },
   "outputs": [],
   "source": [
    "#Делаем предсказания с помощью алгоритма K-ближайших соседей\n",
    "predictions = model.predict(x_test_data)\n"
   ]
  },
  {
   "cell_type": "code",
   "execution_count": 8,
   "id": "b3e7ffaa",
   "metadata": {
    "pycharm": {
     "is_executing": true
    }
   },
   "outputs": [
    {
     "name": "stdout",
     "output_type": "stream",
     "text": [
      "              precision    recall  f1-score   support\n",
      "\n",
      "           0       0.83      0.96      0.89      7024\n",
      "           1       0.66      0.30      0.41      1976\n",
      "\n",
      "    accuracy                           0.81      9000\n",
      "   macro avg       0.75      0.63      0.65      9000\n",
      "weighted avg       0.79      0.81      0.78      9000\n",
      "\n"
     ]
    }
   ],
   "source": [
    "#Оценка точности нашей модели\n",
    "from sklearn.metrics import classification_report\n",
    "from sklearn.metrics import confusion_matrix\n",
    "y_test_data = y_test_data.astype('int')\n",
    "\n",
    "print(classification_report(y_test_data, predictions))\n"
   ]
  },
  {
   "cell_type": "code",
   "execution_count": 9,
   "id": "2bf082a1",
   "metadata": {
    "pycharm": {
     "is_executing": true
    }
   },
   "outputs": [
    {
     "name": "stdout",
     "output_type": "stream",
     "text": [
      "[[6723  301]\n",
      " [1383  593]]\n",
      "\n",
      "Percentage of errors = 0.7\n"
     ]
    }
   ],
   "source": [
    "#Генерируем матрицу ошибок\n",
    "error_matrix = confusion_matrix(y_test_data, predictions)\n",
    "print(error_matrix)\n",
    "print()\n",
    "print(\"Percentage of errors = \" + str(round(1-error_matrix[1,1]/np.sum(error_matrix,axis=1).tolist()[1], 3)))\n"
   ]
  },
  {
   "cell_type": "code",
   "execution_count": null,
   "id": "7f9408b8",
   "metadata": {
    "pycharm": {
     "is_executing": true
    }
   },
   "outputs": [],
   "source": []
  },
  {
   "cell_type": "code",
   "execution_count": null,
   "id": "ce8decdc",
   "metadata": {
    "pycharm": {
     "is_executing": true
    }
   },
   "outputs": [],
   "source": []
  },
  {
   "cell_type": "code",
   "execution_count": null,
   "id": "63ab7a43",
   "metadata": {
    "pycharm": {
     "is_executing": true
    }
   },
   "outputs": [],
   "source": []
  }
 ],
 "metadata": {
  "kernelspec": {
   "display_name": "Python 3",
   "language": "python",
   "name": "python3"
  },
  "language_info": {
   "codemirror_mode": {
    "name": "ipython",
    "version": 3
   },
   "file_extension": ".py",
   "mimetype": "text/x-python",
   "name": "python",
   "nbconvert_exporter": "python",
   "pygments_lexer": "ipython3",
   "version": "3.6.8"
  }
 },
 "nbformat": 4,
 "nbformat_minor": 5
}
